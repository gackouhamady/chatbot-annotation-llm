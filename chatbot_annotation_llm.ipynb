{
  "nbformat": 4,
  "nbformat_minor": 0,
  "metadata": {
    "colab": {
      "private_outputs": true,
      "provenance": []
    },
    "kernelspec": {
      "name": "python3",
      "display_name": "Python 3"
    },
    "language_info": {
      "name": "python"
    }
  },
  "cells": [
    {
      "cell_type": "markdown",
      "source": [
        " # **Projet : Chatbot IA pour l'Annotation Automatique et l'Analyse de Textes en NLP**\n",
        "\n",
        "\n",
        "## Étape 1 : Collecte et Prétraitement des Données\n",
        "\n",
        "### Télécharger le Brown Corpus et l'annoter avec UDPipe\n",
        "\n",
        "Je vais d'abord télécharger le Brown Corpus, qui est un corpus standard de texte en anglais. Ensuite, je vais l'annoter avec l'outil UDPipe pour avoir des étiquettes de dépendance syntaxique et de parties du discours (POS tags).\n",
        "\n",
        "Voici le code pour télécharger et annoter le corpus avec UDPipe :\n"
      ],
      "metadata": {
        "id": "QNWljDFmHXLu"
      }
    },
    {
      "cell_type": "code",
      "execution_count": null,
      "metadata": {
        "id": "QHFt4w-XFehr"
      },
      "outputs": [],
      "source": [
        "# Télécharger le Brown Corpus depuis NLTK\n",
        "import nltk\n",
        "from nltk.corpus import brown\n",
        "\n",
        "\n",
        "# Télécharger le corpus si ce n'est pas déjà fait\n",
        "nltk.download('brown')\n",
        "\n",
        "# Afficher les premières catégories du corpus pour vérifier qu'il a bien été téléchargé\n",
        "print(brown.categories())\n",
        "\n",
        "# Récupérer une section du corpus pour l'annotation\n",
        "sample_text = brown.sents(categories='news')[0]\n",
        "print(\"Exemple de texte :\", ' '.join(sample_text))\n",
        "\n",
        "# Utilisation d'UDPipe pour l'annotation\n",
        "!pip install ufal.udpipe\n",
        "import ufal.udpipe\n",
        "\n",
        "# Télécharger le modèle pré-entraîné en anglais pour UDPipe\n",
        "model = ufal.udpipe.Model.load('english-ewt-ud-2.5-191206.udpipe')\n",
        "\n",
        "# Créer le pipeline UDPipe avec les paramètres par défaut\n",
        "pipeline = ufal.udpipe.Pipeline(model, 'tokenize', 'tag', 'lemmatize', 'parse')\n",
        "\n",
        "\n",
        "# Annoter le texte\n",
        "text = ' '.join(sample_text)\n",
        "print(text)\n",
        "processed = pipeline.process(text)\n",
        "print(\"Texte annoté :\", processed)\n"
      ]
    }
  ]
}