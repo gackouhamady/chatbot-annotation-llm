{
  "nbformat": 4,
  "nbformat_minor": 0,
  "metadata": {
    "colab": {
      "private_outputs": true,
      "provenance": []
    },
    "kernelspec": {
      "name": "python3",
      "display_name": "Python 3"
    },
    "language_info": {
      "name": "python"
    }
  },
  "cells": [
    {
      "cell_type": "markdown",
      "source": [
        " # **Projet : Chatbot IA pour l'Annotation Automatique et l'Analyse de Textes en NLP**\n",
        "\n",
        "\n",
        "## Étape 1 : Collecte et Prétraitement des Données\n",
        "\n",
        "### Télécharger le Brown Corpus et l'annoter avec UDPipe\n",
        "\n",
        "Je vais d'abord télécharger le Brown Corpus, qui est un corpus standard de texte en anglais. Ensuite, je vais l'annoter avec l'outil UDPipe pour avoir des étiquettes de dépendance syntaxique et de parties du discours (POS tags).\n",
        "\n",
        "Voici le code pour télécharger et annoter le corpus avec UDPipe :\n"
      ],
      "metadata": {
        "id": "QNWljDFmHXLu"
      }
    },
    {
      "cell_type": "code",
      "execution_count": null,
      "metadata": {
        "id": "QHFt4w-XFehr"
      },
      "outputs": [],
      "source": []
    }
  ]
}